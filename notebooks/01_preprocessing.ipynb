{
 "cells": [
  {
   "cell_type": "code",
   "execution_count": 1,
   "id": "d5a8fbf5-33a8-41bf-95ea-fced41551af5",
   "metadata": {},
   "outputs": [],
   "source": [
    "# Constants\n",
    "DATA_PATH = \"C:/Users/Abduallah_Gamal/Desktop/LiveITIAIProProjectDS/LiveITIAIProProjectDS/data/raw/survey_results_public.csv\"\n",
    "EXPORT_PATH = \"C:/Users/Abduallah_Gamal/Desktop/LiveITIAIProProjectDS/LiveITIAIProProjectDS/data/processed/1_preprocessed_df.pkl\"\n",
    "\n",
    "REPLACE_DICT = {\n",
    "    'YearsCodePro': {'Less than 1 year': 0, 'More than 50 years': 51}, \n",
    "    'YearsCode':    {'Less than 1 year': 0, 'More than 50 years': 51}, \n",
    "    'Age1stCode':   {'Older than 85':86,    'Younger than 5 years':4}}"
   ]
  },
  {
   "cell_type": "code",
   "execution_count": 2,
   "id": "d5a50f2c-0557-4286-a409-4fab6139b0db",
   "metadata": {},
   "outputs": [],
   "source": [
    "# Load packages\n",
    "import pandas as pd \n",
    "import numpy as np\n",
    "import logging\n",
    "import pickle"
   ]
  },
  {
   "cell_type": "markdown",
   "id": "49834d93-7974-4464-aac7-129c9acdfae1",
   "metadata": {},
   "source": [
    "Functions"
   ]
  },
  {
   "cell_type": "code",
   "execution_count": 3,
   "id": "ea06603c-d1e4-4392-ae62-95960693cc55",
   "metadata": {},
   "outputs": [],
   "source": [
    "def split_answers(data_series, delimiter=\";\"):\n",
    "    \"\"\" \n",
    "    Split multiple answers in a single string \n",
    "    to a list of single strings each represnting a single answers \n",
    "\n",
    "    Parameters:\n",
    "    * data_series (pd.Series): String series with answers \n",
    "    * delimiter (string): Another decimal integer \n",
    "                          Defaults to \";\"\n",
    "\n",
    "    Returns: (pd.Series): If column contains \n",
    "    \"\"\"\n",
    "    \n",
    "    # Sub functions \n",
    "    def is_splittable(pd_series, delimiter):\n",
    "        \"\"\" Check if results multiple should be splitted - Returns boolean \"\"\"    \n",
    "        return pd_series.str.contains(delimiter)\n",
    "    \n",
    "    def split_answer(pd_series, delimiter): \n",
    "        \"\"\"Function to split single answer\"\"\"\n",
    "        return pd_series.str.split(delimiter)\n",
    "    \n",
    "    # --------------------\n",
    "    \n",
    "    # Check if multiple answers exist - if none: return original \n",
    "    splittable_values = is_splittable(data_series, delimiter)\n",
    "    if not splittable_values.any():\n",
    "        return data_series\n",
    "    \n",
    "    # Else, split each value to a list \n",
    "    modified_series = split_answer(data_series, delimiter)    \n",
    "    \n",
    "    # Replace NAs with empty lists \n",
    "    mask_null = modified_series.isnull()\n",
    "    modified_series.loc[mask_null] = modified_series.loc[mask_null].apply(lambda x: [])\n",
    "    \n",
    "    return modified_series"
   ]
  },
  {
   "cell_type": "markdown",
   "id": "69212f5f-1e8c-4863-a3f5-f47a6ef5fba4",
   "metadata": {},
   "source": [
    "Processing\n",
    "\n",
    "Preprocess Data"
   ]
  },
  {
   "cell_type": "code",
   "execution_count": 4,
   "id": "c54f57db-b5bf-414a-bb27-8cab84968b9f",
   "metadata": {},
   "outputs": [],
   "source": [
    "raw_df = pd.read_csv(DATA_PATH)\n",
    "df = raw_df.copy()"
   ]
  },
  {
   "cell_type": "raw",
   "id": "3a9bba65-1a3a-48f5-8858-4595208550f1",
   "metadata": {},
   "source": [
    "1. Replace Values and parse"
   ]
  },
  {
   "cell_type": "code",
   "execution_count": 7,
   "id": "dec101c4-aa11-43d6-9874-c59eb8c8abd6",
   "metadata": {},
   "outputs": [],
   "source": [
    "for col, replacement in REPLACE_DICT.items():\n",
    "    df[col] = df[col].replace(replacement).astype(np.float32)"
   ]
  },
  {
   "cell_type": "raw",
   "id": "a3c59a7d-6953-4522-96a0-4294ea10d82b",
   "metadata": {},
   "source": [
    "2. Split multiple answers"
   ]
  },
  {
   "cell_type": "code",
   "execution_count": 8,
   "id": "a21a8927-d10d-4f08-b22e-16629f23bf5a",
   "metadata": {},
   "outputs": [],
   "source": [
    "object_cols = df.select_dtypes(include='object').columns.tolist()\n",
    "for col in object_cols:\n",
    "    df[col] = split_answers(df[col])"
   ]
  },
  {
   "cell_type": "raw",
   "id": "bdcd68eb-0ce0-4be8-92f3-e5ecfaa9125c",
   "metadata": {},
   "source": [
    "Export Data"
   ]
  },
  {
   "cell_type": "code",
   "execution_count": 9,
   "id": "2f1a1182-2c0c-409a-9ccd-3d69d208d4d7",
   "metadata": {},
   "outputs": [],
   "source": [
    "df.to_pickle(EXPORT_PATH)"
   ]
  }
 ],
 "metadata": {
  "kernelspec": {
   "display_name": "Python 3 (ipykernel)",
   "language": "python",
   "name": "python3"
  },
  "language_info": {
   "codemirror_mode": {
    "name": "ipython",
    "version": 3
   },
   "file_extension": ".py",
   "mimetype": "text/x-python",
   "name": "python",
   "nbconvert_exporter": "python",
   "pygments_lexer": "ipython3",
   "version": "3.8.5"
  }
 },
 "nbformat": 4,
 "nbformat_minor": 5
}
